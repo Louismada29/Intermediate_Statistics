{
  "nbformat": 4,
  "nbformat_minor": 0,
  "metadata": {
    "colab": {
      "name": "Homework_Intermediate_Statistics_Louis Madaerdo_Sotarjua.ipynb",
      "provenance": [],
      "authorship_tag": "ABX9TyPEEQzZVF/HqN0AJC8A0mNS",
      "include_colab_link": true
    },
    "kernelspec": {
      "name": "python3",
      "display_name": "Python 3"
    },
    "language_info": {
      "name": "python"
    }
  },
  "cells": [
    {
      "cell_type": "markdown",
      "metadata": {
        "id": "view-in-github",
        "colab_type": "text"
      },
      "source": [
        "<a href=\"https://colab.research.google.com/github/Louismada29/Intermediate_Statistics/blob/main/Homework_Intermediate_Statistics_Louis_Madaerdo_Sotarjua.ipynb\" target=\"_parent\"><img src=\"https://colab.research.google.com/assets/colab-badge.svg\" alt=\"Open In Colab\"/></a>"
      ]
    },
    {
      "cell_type": "markdown",
      "metadata": {
        "id": "ThAMR74Hjc6n"
      },
      "source": [
        "# Import Libraries"
      ]
    },
    {
      "cell_type": "code",
      "metadata": {
        "id": "WXQfV45_iMu6"
      },
      "source": [
        "import pandas as pd\n",
        "import numpy as np\n",
        "import matplotlib.pyplot as plt\n",
        "import seaborn as sns"
      ],
      "execution_count": 2,
      "outputs": []
    },
    {
      "cell_type": "markdown",
      "metadata": {
        "id": "OFuzyHXejgMu"
      },
      "source": [
        "# Read Dataset"
      ]
    },
    {
      "cell_type": "code",
      "metadata": {
        "colab": {
          "base_uri": "https://localhost:8080/",
          "height": 204
        },
        "id": "OtxA4B_xiaBG",
        "outputId": "e5988b05-cdd6-4be6-8b52-f9e2352241c9"
      },
      "source": [
        "data = pd.read_csv('https://raw.githubusercontent.com/ganjar87/data_science_practice/main/datatraining.txt', delimiter=',')\n",
        "data.head()"
      ],
      "execution_count": 3,
      "outputs": [
        {
          "output_type": "execute_result",
          "data": {
            "text/html": [
              "<div>\n",
              "<style scoped>\n",
              "    .dataframe tbody tr th:only-of-type {\n",
              "        vertical-align: middle;\n",
              "    }\n",
              "\n",
              "    .dataframe tbody tr th {\n",
              "        vertical-align: top;\n",
              "    }\n",
              "\n",
              "    .dataframe thead th {\n",
              "        text-align: right;\n",
              "    }\n",
              "</style>\n",
              "<table border=\"1\" class=\"dataframe\">\n",
              "  <thead>\n",
              "    <tr style=\"text-align: right;\">\n",
              "      <th></th>\n",
              "      <th>date</th>\n",
              "      <th>Temperature</th>\n",
              "      <th>Humidity</th>\n",
              "      <th>Light</th>\n",
              "      <th>CO2</th>\n",
              "      <th>HumidityRatio</th>\n",
              "      <th>Occupancy</th>\n",
              "    </tr>\n",
              "  </thead>\n",
              "  <tbody>\n",
              "    <tr>\n",
              "      <th>1</th>\n",
              "      <td>2015-02-04 17:51:00</td>\n",
              "      <td>23.18</td>\n",
              "      <td>27.2720</td>\n",
              "      <td>426.0</td>\n",
              "      <td>721.25</td>\n",
              "      <td>0.004793</td>\n",
              "      <td>1</td>\n",
              "    </tr>\n",
              "    <tr>\n",
              "      <th>2</th>\n",
              "      <td>2015-02-04 17:51:59</td>\n",
              "      <td>23.15</td>\n",
              "      <td>27.2675</td>\n",
              "      <td>429.5</td>\n",
              "      <td>714.00</td>\n",
              "      <td>0.004783</td>\n",
              "      <td>1</td>\n",
              "    </tr>\n",
              "    <tr>\n",
              "      <th>3</th>\n",
              "      <td>2015-02-04 17:53:00</td>\n",
              "      <td>23.15</td>\n",
              "      <td>27.2450</td>\n",
              "      <td>426.0</td>\n",
              "      <td>713.50</td>\n",
              "      <td>0.004779</td>\n",
              "      <td>1</td>\n",
              "    </tr>\n",
              "    <tr>\n",
              "      <th>4</th>\n",
              "      <td>2015-02-04 17:54:00</td>\n",
              "      <td>23.15</td>\n",
              "      <td>27.2000</td>\n",
              "      <td>426.0</td>\n",
              "      <td>708.25</td>\n",
              "      <td>0.004772</td>\n",
              "      <td>1</td>\n",
              "    </tr>\n",
              "    <tr>\n",
              "      <th>5</th>\n",
              "      <td>2015-02-04 17:55:00</td>\n",
              "      <td>23.10</td>\n",
              "      <td>27.2000</td>\n",
              "      <td>426.0</td>\n",
              "      <td>704.50</td>\n",
              "      <td>0.004757</td>\n",
              "      <td>1</td>\n",
              "    </tr>\n",
              "  </tbody>\n",
              "</table>\n",
              "</div>"
            ],
            "text/plain": [
              "                  date  Temperature  Humidity  ...     CO2  HumidityRatio  Occupancy\n",
              "1  2015-02-04 17:51:00        23.18   27.2720  ...  721.25       0.004793          1\n",
              "2  2015-02-04 17:51:59        23.15   27.2675  ...  714.00       0.004783          1\n",
              "3  2015-02-04 17:53:00        23.15   27.2450  ...  713.50       0.004779          1\n",
              "4  2015-02-04 17:54:00        23.15   27.2000  ...  708.25       0.004772          1\n",
              "5  2015-02-04 17:55:00        23.10   27.2000  ...  704.50       0.004757          1\n",
              "\n",
              "[5 rows x 7 columns]"
            ]
          },
          "metadata": {},
          "execution_count": 3
        }
      ]
    },
    {
      "cell_type": "markdown",
      "metadata": {
        "id": "7aYip_1yjjHt"
      },
      "source": [
        "## Probability Mass Function (PMF)"
      ]
    },
    {
      "cell_type": "code",
      "metadata": {
        "colab": {
          "base_uri": "https://localhost:8080/",
          "height": 288
        },
        "id": "tGZU6spri6LX",
        "outputId": "ad5fabf0-1744-4d5b-d8db-d14f8822e9a3"
      },
      "source": [
        "from scipy.stats import norm\n",
        "\n",
        "sns.histplot(data=data, x='Occupancy',stat=\"probability\")     \n",
        "#sns.histplot(data=df, x='Occupancy',stat=\"probability\", hue='Attrition_Flag') \n",
        "plt.xticks(rotation='45')                                  \n",
        "plt.show()"
      ],
      "execution_count": 4,
      "outputs": [
        {
          "output_type": "display_data",
          "data": {
            "image/png": "[encoded data removed]",
            "text/plain": [
              "<Figure size 432x288 with 1 Axes>"
            ]
          },
          "metadata": {
            "needs_background": "light"
          }
        }
      ]
    },
    {
      "cell_type": "code",
      "metadata": {
        "colab": {
          "base_uri": "https://localhost:8080/"
        },
        "id": "rrXCab1ukHBZ",
        "outputId": "042e9808-29b3-4406-a12d-d436345b3bd2"
      },
      "source": [
        "data['Occupancy'].value_counts(normalize=True)"
      ],
      "execution_count": 5,
      "outputs": [
        {
          "output_type": "execute_result",
          "data": {
            "text/plain": [
              "0    0.78767\n",
              "1    0.21233\n",
              "Name: Occupancy, dtype: float64"
            ]
          },
          "metadata": {},
          "execution_count": 5
        }
      ]
    },
    {
      "cell_type": "markdown",
      "metadata": {
        "id": "wYbK8SO8lHvm"
      },
      "source": [
        "## Distribution of Data"
      ]
    },
    {
      "cell_type": "code",
      "metadata": {
        "colab": {
          "base_uri": "https://localhost:8080/",
          "height": 204
        },
        "id": "-q5U98BoCCNe",
        "outputId": "bc1d6ca8-ecc2-40f1-f5fa-18b0586ee708"
      },
      "source": [
        "# dataframe untuk nilai occupancy = 0\n",
        "df_0 = data[data['Occupancy']==0]\n",
        "df_0.head()"
      ],
      "execution_count": 17,
      "outputs": [
        {
          "output_type": "execute_result",
          "data": {
            "text/html": [
              "<div>\n",
              "<style scoped>\n",
              "    .dataframe tbody tr th:only-of-type {\n",
              "        vertical-align: middle;\n",
              "    }\n",
              "\n",
              "    .dataframe tbody tr th {\n",
              "        vertical-align: top;\n",
              "    }\n",
              "\n",
              "    .dataframe thead th {\n",
              "        text-align: right;\n",
              "    }\n",
              "</style>\n",
              "<table border=\"1\" class=\"dataframe\">\n",
              "  <thead>\n",
              "    <tr style=\"text-align: right;\">\n",
              "      <th></th>\n",
              "      <th>date</th>\n",
              "      <th>Temperature</th>\n",
              "      <th>Humidity</th>\n",
              "      <th>Light</th>\n",
              "      <th>CO2</th>\n",
              "      <th>HumidityRatio</th>\n",
              "      <th>Occupancy</th>\n",
              "    </tr>\n",
              "  </thead>\n",
              "  <tbody>\n",
              "    <tr>\n",
              "      <th>17</th>\n",
              "      <td>2015-02-04 18:07:00</td>\n",
              "      <td>23.000</td>\n",
              "      <td>27.20</td>\n",
              "      <td>0.0</td>\n",
              "      <td>681.5</td>\n",
              "      <td>0.004728</td>\n",
              "      <td>0</td>\n",
              "    </tr>\n",
              "    <tr>\n",
              "      <th>18</th>\n",
              "      <td>2015-02-04 18:08:00</td>\n",
              "      <td>22.945</td>\n",
              "      <td>27.29</td>\n",
              "      <td>0.0</td>\n",
              "      <td>685.0</td>\n",
              "      <td>0.004728</td>\n",
              "      <td>0</td>\n",
              "    </tr>\n",
              "    <tr>\n",
              "      <th>19</th>\n",
              "      <td>2015-02-04 18:08:59</td>\n",
              "      <td>22.945</td>\n",
              "      <td>27.39</td>\n",
              "      <td>0.0</td>\n",
              "      <td>685.0</td>\n",
              "      <td>0.004745</td>\n",
              "      <td>0</td>\n",
              "    </tr>\n",
              "    <tr>\n",
              "      <th>20</th>\n",
              "      <td>2015-02-04 18:10:00</td>\n",
              "      <td>22.890</td>\n",
              "      <td>27.39</td>\n",
              "      <td>0.0</td>\n",
              "      <td>689.0</td>\n",
              "      <td>0.004730</td>\n",
              "      <td>0</td>\n",
              "    </tr>\n",
              "    <tr>\n",
              "      <th>21</th>\n",
              "      <td>2015-02-04 18:10:59</td>\n",
              "      <td>22.890</td>\n",
              "      <td>27.39</td>\n",
              "      <td>0.0</td>\n",
              "      <td>689.5</td>\n",
              "      <td>0.004730</td>\n",
              "      <td>0</td>\n",
              "    </tr>\n",
              "  </tbody>\n",
              "</table>\n",
              "</div>"
            ],
            "text/plain": [
              "                   date  Temperature  Humidity  ...    CO2  HumidityRatio  Occupancy\n",
              "17  2015-02-04 18:07:00       23.000     27.20  ...  681.5       0.004728          0\n",
              "18  2015-02-04 18:08:00       22.945     27.29  ...  685.0       0.004728          0\n",
              "19  2015-02-04 18:08:59       22.945     27.39  ...  685.0       0.004745          0\n",
              "20  2015-02-04 18:10:00       22.890     27.39  ...  689.0       0.004730          0\n",
              "21  2015-02-04 18:10:59       22.890     27.39  ...  689.5       0.004730          0\n",
              "\n",
              "[5 rows x 7 columns]"
            ]
          },
          "metadata": {},
          "execution_count": 17
        }
      ]
    },
    {
      "cell_type": "code",
      "metadata": {
        "colab": {
          "base_uri": "https://localhost:8080/",
          "height": 204
        },
        "id": "0QTrnfewCsLO",
        "outputId": "498511ed-233b-4d59-8c26-90628b56c7a5"
      },
      "source": [
        "# dataframe untuk nilai occupancy = 1\n",
        "df_1 = data[data['Occupancy']==1]\n",
        "df_1.head()"
      ],
      "execution_count": 18,
      "outputs": [
        {
          "output_type": "execute_result",
          "data": {
            "text/html": [
              "<div>\n",
              "<style scoped>\n",
              "    .dataframe tbody tr th:only-of-type {\n",
              "        vertical-align: middle;\n",
              "    }\n",
              "\n",
              "    .dataframe tbody tr th {\n",
              "        vertical-align: top;\n",
              "    }\n",
              "\n",
              "    .dataframe thead th {\n",
              "        text-align: right;\n",
              "    }\n",
              "</style>\n",
              "<table border=\"1\" class=\"dataframe\">\n",
              "  <thead>\n",
              "    <tr style=\"text-align: right;\">\n",
              "      <th></th>\n",
              "      <th>date</th>\n",
              "      <th>Temperature</th>\n",
              "      <th>Humidity</th>\n",
              "      <th>Light</th>\n",
              "      <th>CO2</th>\n",
              "      <th>HumidityRatio</th>\n",
              "      <th>Occupancy</th>\n",
              "    </tr>\n",
              "  </thead>\n",
              "  <tbody>\n",
              "    <tr>\n",
              "      <th>1</th>\n",
              "      <td>2015-02-04 17:51:00</td>\n",
              "      <td>23.18</td>\n",
              "      <td>27.2720</td>\n",
              "      <td>426.0</td>\n",
              "      <td>721.25</td>\n",
              "      <td>0.004793</td>\n",
              "      <td>1</td>\n",
              "    </tr>\n",
              "    <tr>\n",
              "      <th>2</th>\n",
              "      <td>2015-02-04 17:51:59</td>\n",
              "      <td>23.15</td>\n",
              "      <td>27.2675</td>\n",
              "      <td>429.5</td>\n",
              "      <td>714.00</td>\n",
              "      <td>0.004783</td>\n",
              "      <td>1</td>\n",
              "    </tr>\n",
              "    <tr>\n",
              "      <th>3</th>\n",
              "      <td>2015-02-04 17:53:00</td>\n",
              "      <td>23.15</td>\n",
              "      <td>27.2450</td>\n",
              "      <td>426.0</td>\n",
              "      <td>713.50</td>\n",
              "      <td>0.004779</td>\n",
              "      <td>1</td>\n",
              "    </tr>\n",
              "    <tr>\n",
              "      <th>4</th>\n",
              "      <td>2015-02-04 17:54:00</td>\n",
              "      <td>23.15</td>\n",
              "      <td>27.2000</td>\n",
              "      <td>426.0</td>\n",
              "      <td>708.25</td>\n",
              "      <td>0.004772</td>\n",
              "      <td>1</td>\n",
              "    </tr>\n",
              "    <tr>\n",
              "      <th>5</th>\n",
              "      <td>2015-02-04 17:55:00</td>\n",
              "      <td>23.10</td>\n",
              "      <td>27.2000</td>\n",
              "      <td>426.0</td>\n",
              "      <td>704.50</td>\n",
              "      <td>0.004757</td>\n",
              "      <td>1</td>\n",
              "    </tr>\n",
              "  </tbody>\n",
              "</table>\n",
              "</div>"
            ],
            "text/plain": [
              "                  date  Temperature  Humidity  ...     CO2  HumidityRatio  Occupancy\n",
              "1  2015-02-04 17:51:00        23.18   27.2720  ...  721.25       0.004793          1\n",
              "2  2015-02-04 17:51:59        23.15   27.2675  ...  714.00       0.004783          1\n",
              "3  2015-02-04 17:53:00        23.15   27.2450  ...  713.50       0.004779          1\n",
              "4  2015-02-04 17:54:00        23.15   27.2000  ...  708.25       0.004772          1\n",
              "5  2015-02-04 17:55:00        23.10   27.2000  ...  704.50       0.004757          1\n",
              "\n",
              "[5 rows x 7 columns]"
            ]
          },
          "metadata": {},
          "execution_count": 18
        }
      ]
    },
    {
      "cell_type": "markdown",
      "metadata": {
        "id": "mS4Ar8ohofFo"
      },
      "source": [
        "### Distribution of Temperature"
      ]
    },
    {
      "cell_type": "code",
      "metadata": {
        "colab": {
          "base_uri": "https://localhost:8080/",
          "height": 279
        },
        "id": "vS8FOFVykOvT",
        "outputId": "a6dbeca2-65a8-498a-d477-fc701851a45d"
      },
      "source": [
        "# Distribusi Temperature terhadap occupancy = 0\n",
        "min = df_0['Temperature'].min()\n",
        "max = df_0['Temperature'].max()\n",
        "\n",
        "mean = df_0['Temperature'].mean()\n",
        "std = df_0['Temperature'].std()\n",
        "\n",
        "\n",
        "x_pdf = np.linspace(min, max)\n",
        "y_pdf = norm.pdf(x_pdf, mean, std)\n",
        "\n",
        "sns.histplot(data=df_0, x='Temperature',stat=\"density\")\n",
        "plt.plot(x_pdf, y_pdf, 'r', lw=2, label='pdf')       \n",
        "plt.legend()                                            \n",
        "plt.show()"
      ],
      "execution_count": 19,
      "outputs": [
        {
          "output_type": "display_data",
          "data": {
            "image/png": "[encoded data removed]",
            "text/plain": [
              "<Figure size 432x288 with 1 Axes>"
            ]
          },
          "metadata": {
            "needs_background": "light"
          }
        }
      ]
    },
    {
      "cell_type": "code",
      "metadata": {
        "colab": {
          "base_uri": "https://localhost:8080/",
          "height": 279
        },
        "id": "8pEshMXpDfnz",
        "outputId": "61fa68cc-587d-4791-83ee-a09e50b25536"
      },
      "source": [
        "# Distribusi Temperature terhadap occupancy = 1\n",
        "min = df_1['Temperature'].min()\n",
        "max = df_1['Temperature'].max()\n",
        "\n",
        "mean = df_1['Temperature'].mean()\n",
        "std = df_1['Temperature'].std()\n",
        "\n",
        "\n",
        "x_pdf = np.linspace(min, max)\n",
        "y_pdf = norm.pdf(x_pdf, mean, std)\n",
        "\n",
        "sns.histplot(data=df_1, x='Temperature',stat=\"density\")\n",
        "plt.plot(x_pdf, y_pdf, 'r', lw=2, label='pdf')       \n",
        "plt.legend()                                            \n",
        "plt.show()"
      ],
      "execution_count": 20,
      "outputs": [
        {
          "output_type": "display_data",
          "data": {
            "image/png": "[encoded data removed]",
            "text/plain": [
              "<Figure size 432x288 with 1 Axes>"
            ]
          },
          "metadata": {
            "needs_background": "light"
          }
        }
      ]
    },
    {
      "cell_type": "markdown",
      "metadata": {
        "id": "eJDuLFr2Dxpb"
      },
      "source": [
        "**Analisa**\n",
        "\n",
        "Berdasarkan hasil histogram diatas yang menggambarkan distribusi data pada variabel Temperature jika Occupancy =0 menunjukkan bahwa data tersebut **Right Skewness**, sedangkan jika Occupancy = 1 menunjukkan bahwa data tersebut **Left Skewness**"
      ]
    },
    {
      "cell_type": "markdown",
      "metadata": {
        "id": "fiMUVsZnokjI"
      },
      "source": [
        "### Distribution of Humidity"
      ]
    },
    {
      "cell_type": "code",
      "metadata": {
        "colab": {
          "base_uri": "https://localhost:8080/",
          "height": 279
        },
        "id": "7h2QJ8oIoC_0",
        "outputId": "1a5251c4-c0ed-42d9-9f99-667c24e4bb6d"
      },
      "source": [
        "# Distribusi Humidity terhadap occupancy = 0\n",
        "min = df_0['Humidity'].min()\n",
        "max = df_0['Humidity'].max()\n",
        "\n",
        "mean = df_0['Humidity'].mean()\n",
        "std = df_0['Humidity'].std()\n",
        "\n",
        "\n",
        "x_pdf = np.linspace(min, max)\n",
        "y_pdf = norm.pdf(x_pdf, mean, std)\n",
        "\n",
        "sns.histplot(data=df_0, x='Humidity',stat=\"density\")\n",
        "plt.plot(x_pdf, y_pdf, 'r', lw=2, label='pdf')       \n",
        "plt.legend()                                            \n",
        "plt.show()"
      ],
      "execution_count": 21,
      "outputs": [
        {
          "output_type": "display_data",
          "data": {
            "image/png": "[encoded data removed]",
            "text/plain": [
              "<Figure size 432x288 with 1 Axes>"
            ]
          },
          "metadata": {
            "needs_background": "light"
          }
        }
      ]
    },
    {
      "cell_type": "code",
      "metadata": {
        "colab": {
          "base_uri": "https://localhost:8080/",
          "height": 279
        },
        "id": "pgw5tAX4E_nP",
        "outputId": "e0164225-739a-4791-89f9-3c5bdcaf518e"
      },
      "source": [
        "# Distribusi Humidity terhadap occupancy = 1\n",
        "min = df_1['Humidity'].min()\n",
        "max = df_1['Humidity'].max()\n",
        "\n",
        "mean = df_1['Humidity'].mean()\n",
        "std = df_1['Humidity'].std()\n",
        "\n",
        "\n",
        "x_pdf = np.linspace(min, max)\n",
        "y_pdf = norm.pdf(x_pdf, mean, std)\n",
        "\n",
        "sns.histplot(data=df_1, x='Humidity',stat=\"density\")\n",
        "plt.plot(x_pdf, y_pdf, 'r', lw=2, label='pdf')       \n",
        "plt.legend()                                            \n",
        "plt.show()"
      ],
      "execution_count": 22,
      "outputs": [
        {
          "output_type": "display_data",
          "data": {
            "image/png": "[encoded data removed]",
            "text/plain": [
              "<Figure size 432x288 with 1 Axes>"
            ]
          },
          "metadata": {
            "needs_background": "light"
          }
        }
      ]
    },
    {
      "cell_type": "markdown",
      "metadata": {
        "id": "0ToPz_RcFOfA"
      },
      "source": [
        "**Analisa**\n",
        "\n",
        "Berdasarkan hasil histogram diatas yang menggambarkan distribusi data pada variabel Humidity jika Occupancy =0  dan jika Occupancy = 1 menunjukkan bahwa data tersebut **Right Skewness**"
      ]
    },
    {
      "cell_type": "markdown",
      "metadata": {
        "id": "A6eR1ouXon9q"
      },
      "source": [
        "### Distribution of Light"
      ]
    },
    {
      "cell_type": "code",
      "metadata": {
        "colab": {
          "base_uri": "https://localhost:8080/",
          "height": 279
        },
        "id": "zxhhKhj_oajs",
        "outputId": "4fd9ccf0-f6bd-40c9-e194-0b36db26538c"
      },
      "source": [
        "# Distribusi Light terhadap occupancy = 0\n",
        "min = df_0['Light'].min()\n",
        "max = df_0['Light'].max()\n",
        "\n",
        "mean = df_0['Light'].mean()\n",
        "std = df_0['Light'].std()\n",
        "\n",
        "\n",
        "x_pdf = np.linspace(min, max)\n",
        "y_pdf = norm.pdf(x_pdf, mean, std)\n",
        "\n",
        "sns.histplot(data=df_0, x='Light',stat=\"density\")\n",
        "plt.plot(x_pdf, y_pdf, 'r', lw=2, label='pdf')       \n",
        "plt.legend()                                            \n",
        "plt.show()"
      ],
      "execution_count": 23,
      "outputs": [
        {
          "output_type": "display_data",
          "data": {
            "image/png": "[encoded data removed]",
            "text/plain": [
              "<Figure size 432x288 with 1 Axes>"
            ]
          },
          "metadata": {
            "needs_background": "light"
          }
        }
      ]
    },
    {
      "cell_type": "code",
      "metadata": {
        "colab": {
          "base_uri": "https://localhost:8080/",
          "height": 279
        },
        "id": "PIZKt_SbGYyx",
        "outputId": "5cf7831d-d684-4695-8000-55e6bb032514"
      },
      "source": [
        "# Distribusi Light terhadap occupancy = 1\n",
        "min = df_1['Light'].min()\n",
        "max = df_1['Light'].max()\n",
        "\n",
        "mean = df_1['Light'].mean()\n",
        "std = df_1['Light'].std()\n",
        "\n",
        "\n",
        "x_pdf = np.linspace(min, max)\n",
        "y_pdf = norm.pdf(x_pdf, mean, std)\n",
        "\n",
        "sns.histplot(data=df_1, x='Light',stat=\"density\")\n",
        "plt.plot(x_pdf, y_pdf, 'r', lw=2, label='pdf')       \n",
        "plt.legend()                                            \n",
        "plt.show()"
      ],
      "execution_count": 24,
      "outputs": [
        {
          "output_type": "display_data",
          "data": {
            "image/png": "[encoded data removed]",
            "text/plain": [
              "<Figure size 432x288 with 1 Axes>"
            ]
          },
          "metadata": {
            "needs_background": "light"
          }
        }
      ]
    },
    {
      "cell_type": "markdown",
      "metadata": {
        "id": "QsZFmbKxGq_H"
      },
      "source": [
        "**Analisa**\n",
        "\n",
        "Berdasarkan hasil histogram diatas yang menggambarkan distribusi data pada variabel Light jika Occupancy =0 menunjukkan bahwa data tersebut **Right Skewness** dan jika Occupancy = 1 menunjukkan bahwa data tersebut **Normal Distribution**"
      ]
    },
    {
      "cell_type": "markdown",
      "metadata": {
        "id": "tX0UwOzwoxyN"
      },
      "source": [
        "### Distribution of CO2"
      ]
    },
    {
      "cell_type": "code",
      "metadata": {
        "colab": {
          "base_uri": "https://localhost:8080/",
          "height": 283
        },
        "id": "G4HFGGBeowNX",
        "outputId": "06dd7edd-256a-41ad-9a8d-ec9eb1b6638d"
      },
      "source": [
        "# Distribusi CO2 terhadap occupancy = 0\n",
        "min = df_0['CO2'].min()\n",
        "max = df_0['CO2'].max()\n",
        "\n",
        "mean = df_0['CO2'].mean()\n",
        "std = df_0['CO2'].std()\n",
        "\n",
        "\n",
        "x_pdf = np.linspace(min, max)\n",
        "y_pdf = norm.pdf(x_pdf, mean, std)\n",
        "\n",
        "sns.histplot(data=df_0, x='CO2',stat=\"density\")\n",
        "plt.plot(x_pdf, y_pdf, 'r', lw=2, label='pdf')       \n",
        "plt.legend()                                            \n",
        "plt.show()"
      ],
      "execution_count": 25,
      "outputs": [
        {
          "output_type": "display_data",
          "data": {
            "image/png": "[encoded data removed]",
            "text/plain": [
              "<Figure size 432x288 with 1 Axes>"
            ]
          },
          "metadata": {
            "needs_background": "light"
          }
        }
      ]
    },
    {
      "cell_type": "code",
      "metadata": {
        "colab": {
          "base_uri": "https://localhost:8080/",
          "height": 279
        },
        "id": "J2JzvJ_1HjY_",
        "outputId": "9dca03e4-ac64-4f91-c431-756f453f3b88"
      },
      "source": [
        "# Distribusi CO2 terhadap occupancy = 1\n",
        "min = df_1['CO2'].min()\n",
        "max = df_1['CO2'].max()\n",
        "\n",
        "mean = df_1['CO2'].mean()\n",
        "std = df_1['CO2'].std()\n",
        "\n",
        "\n",
        "x_pdf = np.linspace(min, max)\n",
        "y_pdf = norm.pdf(x_pdf, mean, std)\n",
        "\n",
        "sns.histplot(data=df_1, x='CO2',stat=\"density\")\n",
        "plt.plot(x_pdf, y_pdf, 'r', lw=2, label='pdf')       \n",
        "plt.legend()                                            \n",
        "plt.show()"
      ],
      "execution_count": 26,
      "outputs": [
        {
          "output_type": "display_data",
          "data": {
            "image/png": "[encoded data removed]",
            "text/plain": [
              "<Figure size 432x288 with 1 Axes>"
            ]
          },
          "metadata": {
            "needs_background": "light"
          }
        }
      ]
    },
    {
      "cell_type": "markdown",
      "metadata": {
        "id": "IDExLaZMHtMC"
      },
      "source": [
        "**Analisa**\n",
        "\n",
        "Berdasarkan hasil histogram diatas yang menggambarkan distribusi data pada variabel CO2 jika Occupancy =0  dan jika Occupancy = 1 menunjukkan bahwa data tersebut **Right Skewness**"
      ]
    },
    {
      "cell_type": "markdown",
      "metadata": {
        "id": "tLWcfjKtZsnS"
      },
      "source": [
        "## Correlation Between Variables and Occupancy"
      ]
    },
    {
      "cell_type": "code",
      "metadata": {
        "colab": {
          "base_uri": "https://localhost:8080/"
        },
        "id": "k42VNGb9ZnGx",
        "outputId": "c8ef6f3e-3407-4c0e-af62-6e8a2832bd59"
      },
      "source": [
        "import pandas as pd\n",
        "# correlation count of Temperature\n",
        "r = np.corrcoef(data['Temperature'], data['Occupancy'])\n",
        "print('Pearsons correlation: %.3f' % r[0,1])"
      ],
      "execution_count": 12,
      "outputs": [
        {
          "output_type": "stream",
          "name": "stdout",
          "text": [
            "Pearsons correlation: 0.538\n"
          ]
        }
      ]
    },
    {
      "cell_type": "code",
      "metadata": {
        "colab": {
          "base_uri": "https://localhost:8080/"
        },
        "id": "u6ynq5gKaVoA",
        "outputId": "5c224dc6-ac8d-4401-f49f-aacce51f65d0"
      },
      "source": [
        "# correlation count of Humidity\n",
        "r = np.corrcoef(data['Humidity'], data['Occupancy'])\n",
        "print('Pearsons correlation: %.3f' % r[0,1])"
      ],
      "execution_count": 13,
      "outputs": [
        {
          "output_type": "stream",
          "name": "stdout",
          "text": [
            "Pearsons correlation: 0.133\n"
          ]
        }
      ]
    },
    {
      "cell_type": "code",
      "metadata": {
        "colab": {
          "base_uri": "https://localhost:8080/"
        },
        "id": "bK97oEi2ckat",
        "outputId": "dc32aa2b-a9c1-4aac-e5bf-2fb148fac156"
      },
      "source": [
        "# correlation count of Light\n",
        "r = np.corrcoef(data['Light'], data['Occupancy'])\n",
        "print('Pearsons correlation: %.3f' % r[0,1])"
      ],
      "execution_count": 14,
      "outputs": [
        {
          "output_type": "stream",
          "name": "stdout",
          "text": [
            "Pearsons correlation: 0.907\n"
          ]
        }
      ]
    },
    {
      "cell_type": "code",
      "metadata": {
        "colab": {
          "base_uri": "https://localhost:8080/"
        },
        "id": "b3Bf9qI1cnNU",
        "outputId": "e41e479e-2c9c-4b9e-ba50-09ef458ac85b"
      },
      "source": [
        "# correlation count of CO2\n",
        "r = np.corrcoef(data['CO2'], data['Occupancy'])\n",
        "print('Pearsons correlation: %.3f' % r[0,1])"
      ],
      "execution_count": 15,
      "outputs": [
        {
          "output_type": "stream",
          "name": "stdout",
          "text": [
            "Pearsons correlation: 0.712\n"
          ]
        }
      ]
    },
    {
      "cell_type": "markdown",
      "metadata": {
        "id": "FBLKwzxu_xl_"
      },
      "source": [
        "**Analisa**\n",
        "\n",
        "Berdasarkan hasil perhitungan korelasi antara semua variabel dengan occupancy maka dapat disimpulkan bahwa:\n",
        "1. Variabel Light memiliki nilai korelasi positif yang kuat (High Positive Correlation) terhadap Occupancy\n",
        "2. Variabel CO2, Temperature dan Humidity memiliki nilai korelasi positif yang lemah (Low Positive Correlation) terhadap Occupancy"
      ]
    },
    {
      "cell_type": "code",
      "metadata": {
        "id": "OYH28YYFcp1b"
      },
      "source": [
        ""
      ],
      "execution_count": 15,
      "outputs": []
    }
  ]
}